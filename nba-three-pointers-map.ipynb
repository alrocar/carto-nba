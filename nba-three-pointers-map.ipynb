{
 "cells": [
  {
   "cell_type": "markdown",
   "metadata": {},
   "source": [
    "## VISUALIZING YOUR FAVOURITE NBA PLAYER 3 POINTERS GRAPH\n",
    "\n",
    "Tools we are going to use:\n",
    "\n",
    "- The NBA API to get the data from any NBA player\n",
    "- CARTOframes to upload the data seamlessly to CARTO\n",
    "- The CARTO Python SDK to analyze and create a 3-pointers map\n",
    "- carto-print to generate a high resolution ready-to-print image\n"
   ]
  },
  {
   "cell_type": "markdown",
   "metadata": {},
   "source": [
    "#### Let's start by importing the required modules"
   ]
  },
  {
   "cell_type": "code",
   "execution_count": 3,
   "metadata": {},
   "outputs": [],
   "source": [
    "import os\n",
    "import sys\n",
    "import time\n",
    "\n",
    "from carto.auth import APIKeyAuthClient\n",
    "from carto.maps import NamedMapManager\n",
    "from carto.print import Printer\n",
    "\n",
    "from nba_api.stats.static import players\n",
    "from nba_api.stats.static import teams\n",
    "from nba_api.stats.endpoints import shotchartdetail\n",
    "\n",
    "import pandas as pd\n",
    "from cartoframes.auth import Credentials, set_default_credentials\n",
    "from cartoframes import to_carto\n",
    "from cartoframes.data.clients import SQLClient\n",
    "import geopandas as gpd"
   ]
  },
  {
   "cell_type": "markdown",
   "metadata": {},
   "source": [
    "#### Time to set the CARTO credentials to use"
   ]
  },
  {
   "cell_type": "code",
   "execution_count": 4,
   "metadata": {},
   "outputs": [],
   "source": [
    "CARTO_BASE_URL = os.environ['CARTO_API_URL']\n",
    "CARTO_BASE_URL = 'https://aromeu.carto.com/'"
   ]
  },
  {
   "cell_type": "code",
   "execution_count": 5,
   "metadata": {},
   "outputs": [],
   "source": [
    "CARTO_API_KEY = os.environ['CARTO_API_KEY']\n",
    "CARTO_API_KEY = '424dec8b179567aace6ef7b229c9afa1d78d68e7'\n",
    "CARTO_USER_NAME = 'aromeu'"
   ]
  },
  {
   "cell_type": "markdown",
   "metadata": {},
   "source": [
    "#### Set the player name and the teams he has played with"
   ]
  },
  {
   "cell_type": "code",
   "execution_count": 5,
   "metadata": {},
   "outputs": [],
   "source": [
    "PLAYER_NAME = 'Stephen Curry'\n",
    "TEAMS_NAME = ['Golden State Warriors']"
   ]
  },
  {
   "cell_type": "code",
   "execution_count": 103,
   "metadata": {},
   "outputs": [],
   "source": [
    "PLAYER_NAME = 'Russell Westbrook'\n",
    "TEAMS_NAME = ['Oklahoma City Thunder']"
   ]
  },
  {
   "cell_type": "code",
   "execution_count": 104,
   "metadata": {},
   "outputs": [],
   "source": [
    "PLAYER_NAME = 'Damian Lillard'\n",
    "TEAMS_NAME = ['Portland Trail Blazers']"
   ]
  },
  {
   "cell_type": "markdown",
   "metadata": {},
   "source": [
    "#### Yes, just 10 lines to get all their shoting data"
   ]
  },
  {
   "cell_type": "code",
   "execution_count": 6,
   "metadata": {},
   "outputs": [],
   "source": [
    "data = []\n",
    "headers = []\n",
    "player = players.find_players_by_full_name(PLAYER_NAME)\n",
    "player_id = player[0]['id']\n",
    "\n",
    "for team_name in TEAMS_NAME:\n",
    "  team = teams.find_teams_by_full_name(team_name)\n",
    "  team_id = team[0]['id']\n",
    "  shots = shotchartdetail.ShotChartDetail(player_id=player_id, team_id=team_id)\n",
    "  headers = shots.shot_chart_detail.data['headers']\n",
    "  data.extend(shots.shot_chart_detail.data['data'])"
   ]
  },
  {
   "cell_type": "markdown",
   "metadata": {},
   "source": [
    "#### Let's go the data scientist path"
   ]
  },
  {
   "cell_type": "code",
   "execution_count": 9,
   "metadata": {},
   "outputs": [],
   "source": [
    "#df = pd.DataFrame(data, columns=headers)\n",
    "PLAYER_NAME = 'stephen_curry'\n",
    "df = pd.read_csv(f'{PLAYER_NAME}.csv')"
   ]
  },
  {
   "cell_type": "code",
   "execution_count": 10,
   "metadata": {},
   "outputs": [
    {
     "data": {
      "text/html": [
       "<div>\n",
       "<style scoped>\n",
       "    .dataframe tbody tr th:only-of-type {\n",
       "        vertical-align: middle;\n",
       "    }\n",
       "\n",
       "    .dataframe tbody tr th {\n",
       "        vertical-align: top;\n",
       "    }\n",
       "\n",
       "    .dataframe thead th {\n",
       "        text-align: right;\n",
       "    }\n",
       "</style>\n",
       "<table border=\"1\" class=\"dataframe\">\n",
       "  <thead>\n",
       "    <tr style=\"text-align: right;\">\n",
       "      <th></th>\n",
       "      <th>Unnamed: 0</th>\n",
       "      <th>GRID_TYPE</th>\n",
       "      <th>GAME_ID</th>\n",
       "      <th>GAME_EVENT_ID</th>\n",
       "      <th>PLAYER_ID</th>\n",
       "      <th>PLAYER_NAME</th>\n",
       "      <th>TEAM_ID</th>\n",
       "      <th>TEAM_NAME</th>\n",
       "      <th>PERIOD</th>\n",
       "      <th>MINUTES_REMAINING</th>\n",
       "      <th>...</th>\n",
       "      <th>SHOT_ZONE_AREA</th>\n",
       "      <th>SHOT_ZONE_RANGE</th>\n",
       "      <th>SHOT_DISTANCE</th>\n",
       "      <th>LOC_X</th>\n",
       "      <th>LOC_Y</th>\n",
       "      <th>SHOT_ATTEMPTED_FLAG</th>\n",
       "      <th>SHOT_MADE_FLAG</th>\n",
       "      <th>GAME_DATE</th>\n",
       "      <th>HTM</th>\n",
       "      <th>VTM</th>\n",
       "    </tr>\n",
       "  </thead>\n",
       "  <tbody>\n",
       "    <tr>\n",
       "      <th>0</th>\n",
       "      <td>0</td>\n",
       "      <td>Shot Chart Detail</td>\n",
       "      <td>20900015</td>\n",
       "      <td>17</td>\n",
       "      <td>201939</td>\n",
       "      <td>Stephen Curry</td>\n",
       "      <td>1610612744</td>\n",
       "      <td>Golden State Warriors</td>\n",
       "      <td>1</td>\n",
       "      <td>9</td>\n",
       "      <td>...</td>\n",
       "      <td>Left Side Center(LC)</td>\n",
       "      <td>16-24 ft.</td>\n",
       "      <td>18</td>\n",
       "      <td>-122</td>\n",
       "      <td>145</td>\n",
       "      <td>1</td>\n",
       "      <td>1</td>\n",
       "      <td>20091028</td>\n",
       "      <td>GSW</td>\n",
       "      <td>HOU</td>\n",
       "    </tr>\n",
       "    <tr>\n",
       "      <th>1</th>\n",
       "      <td>1</td>\n",
       "      <td>Shot Chart Detail</td>\n",
       "      <td>20900015</td>\n",
       "      <td>413</td>\n",
       "      <td>201939</td>\n",
       "      <td>Stephen Curry</td>\n",
       "      <td>1610612744</td>\n",
       "      <td>Golden State Warriors</td>\n",
       "      <td>4</td>\n",
       "      <td>10</td>\n",
       "      <td>...</td>\n",
       "      <td>Left Side Center(LC)</td>\n",
       "      <td>16-24 ft.</td>\n",
       "      <td>16</td>\n",
       "      <td>-64</td>\n",
       "      <td>149</td>\n",
       "      <td>1</td>\n",
       "      <td>1</td>\n",
       "      <td>20091028</td>\n",
       "      <td>GSW</td>\n",
       "      <td>HOU</td>\n",
       "    </tr>\n",
       "    <tr>\n",
       "      <th>2</th>\n",
       "      <td>2</td>\n",
       "      <td>Shot Chart Detail</td>\n",
       "      <td>20900015</td>\n",
       "      <td>453</td>\n",
       "      <td>201939</td>\n",
       "      <td>Stephen Curry</td>\n",
       "      <td>1610612744</td>\n",
       "      <td>Golden State Warriors</td>\n",
       "      <td>4</td>\n",
       "      <td>6</td>\n",
       "      <td>...</td>\n",
       "      <td>Right Side Center(RC)</td>\n",
       "      <td>16-24 ft.</td>\n",
       "      <td>17</td>\n",
       "      <td>118</td>\n",
       "      <td>123</td>\n",
       "      <td>1</td>\n",
       "      <td>1</td>\n",
       "      <td>20091028</td>\n",
       "      <td>GSW</td>\n",
       "      <td>HOU</td>\n",
       "    </tr>\n",
       "    <tr>\n",
       "      <th>3</th>\n",
       "      <td>3</td>\n",
       "      <td>Shot Chart Detail</td>\n",
       "      <td>20900015</td>\n",
       "      <td>487</td>\n",
       "      <td>201939</td>\n",
       "      <td>Stephen Curry</td>\n",
       "      <td>1610612744</td>\n",
       "      <td>Golden State Warriors</td>\n",
       "      <td>4</td>\n",
       "      <td>2</td>\n",
       "      <td>...</td>\n",
       "      <td>Right Side Center(RC)</td>\n",
       "      <td>16-24 ft.</td>\n",
       "      <td>20</td>\n",
       "      <td>121</td>\n",
       "      <td>162</td>\n",
       "      <td>1</td>\n",
       "      <td>1</td>\n",
       "      <td>20091028</td>\n",
       "      <td>GSW</td>\n",
       "      <td>HOU</td>\n",
       "    </tr>\n",
       "    <tr>\n",
       "      <th>4</th>\n",
       "      <td>4</td>\n",
       "      <td>Shot Chart Detail</td>\n",
       "      <td>20900015</td>\n",
       "      <td>490</td>\n",
       "      <td>201939</td>\n",
       "      <td>Stephen Curry</td>\n",
       "      <td>1610612744</td>\n",
       "      <td>Golden State Warriors</td>\n",
       "      <td>4</td>\n",
       "      <td>1</td>\n",
       "      <td>...</td>\n",
       "      <td>Left Side Center(LC)</td>\n",
       "      <td>16-24 ft.</td>\n",
       "      <td>18</td>\n",
       "      <td>-125</td>\n",
       "      <td>134</td>\n",
       "      <td>1</td>\n",
       "      <td>1</td>\n",
       "      <td>20091028</td>\n",
       "      <td>GSW</td>\n",
       "      <td>HOU</td>\n",
       "    </tr>\n",
       "  </tbody>\n",
       "</table>\n",
       "<p>5 rows × 25 columns</p>\n",
       "</div>"
      ],
      "text/plain": [
       "   Unnamed: 0          GRID_TYPE   GAME_ID  GAME_EVENT_ID  PLAYER_ID  \\\n",
       "0           0  Shot Chart Detail  20900015             17     201939   \n",
       "1           1  Shot Chart Detail  20900015            413     201939   \n",
       "2           2  Shot Chart Detail  20900015            453     201939   \n",
       "3           3  Shot Chart Detail  20900015            487     201939   \n",
       "4           4  Shot Chart Detail  20900015            490     201939   \n",
       "\n",
       "     PLAYER_NAME     TEAM_ID              TEAM_NAME  PERIOD  \\\n",
       "0  Stephen Curry  1610612744  Golden State Warriors       1   \n",
       "1  Stephen Curry  1610612744  Golden State Warriors       4   \n",
       "2  Stephen Curry  1610612744  Golden State Warriors       4   \n",
       "3  Stephen Curry  1610612744  Golden State Warriors       4   \n",
       "4  Stephen Curry  1610612744  Golden State Warriors       4   \n",
       "\n",
       "   MINUTES_REMAINING  ...         SHOT_ZONE_AREA SHOT_ZONE_RANGE  \\\n",
       "0                  9  ...   Left Side Center(LC)       16-24 ft.   \n",
       "1                 10  ...   Left Side Center(LC)       16-24 ft.   \n",
       "2                  6  ...  Right Side Center(RC)       16-24 ft.   \n",
       "3                  2  ...  Right Side Center(RC)       16-24 ft.   \n",
       "4                  1  ...   Left Side Center(LC)       16-24 ft.   \n",
       "\n",
       "  SHOT_DISTANCE LOC_X LOC_Y SHOT_ATTEMPTED_FLAG SHOT_MADE_FLAG  GAME_DATE  \\\n",
       "0            18  -122   145                   1              1   20091028   \n",
       "1            16   -64   149                   1              1   20091028   \n",
       "2            17   118   123                   1              1   20091028   \n",
       "3            20   121   162                   1              1   20091028   \n",
       "4            18  -125   134                   1              1   20091028   \n",
       "\n",
       "   HTM  VTM  \n",
       "0  GSW  HOU  \n",
       "1  GSW  HOU  \n",
       "2  GSW  HOU  \n",
       "3  GSW  HOU  \n",
       "4  GSW  HOU  \n",
       "\n",
       "[5 rows x 25 columns]"
      ]
     },
     "execution_count": 10,
     "metadata": {},
     "output_type": "execute_result"
    }
   ],
   "source": [
    "df.head()"
   ]
  },
  {
   "cell_type": "markdown",
   "metadata": {},
   "source": [
    "#### And send the data to your CARTO account"
   ]
  },
  {
   "cell_type": "code",
   "execution_count": 11,
   "metadata": {},
   "outputs": [],
   "source": [
    "dataset_name = '_'.join(PLAYER_NAME.split(' ')).lower()\n",
    "creds = Credentials(base_url=CARTO_BASE_URL, api_key=CARTO_API_KEY)\n",
    "set_default_credentials(creds)"
   ]
  },
  {
   "cell_type": "code",
   "execution_count": 12,
   "metadata": {},
   "outputs": [],
   "source": [
    "# 2019 shots\n",
    "# YEAR = '2019'\n",
    "# bool_series = df[\"GAME_DATE\"].str.startswith(YEAR, na = False) \n",
    "  \n",
    "# displaying filtered dataframe \n",
    "# df = df[bool_series] "
   ]
  },
  {
   "cell_type": "code",
   "execution_count": 14,
   "metadata": {},
   "outputs": [
    {
     "name": "stdout",
     "output_type": "stream",
     "text": [
      "Success! Data uploaded to table \"stephen_curry\" correctly\n"
     ]
    },
    {
     "data": {
      "text/plain": [
       "'stephen_curry'"
      ]
     },
     "execution_count": 14,
     "metadata": {},
     "output_type": "execute_result"
    }
   ],
   "source": [
    "gdf = gpd.GeoDataFrame(\n",
    "    df, geometry=gpd.points_from_xy(df.LOC_X, df.LOC_Y))\n",
    "to_carto(gdf, dataset_name, if_exists='replace')"
   ]
  },
  {
   "cell_type": "markdown",
   "metadata": {},
   "source": [
    "#### Wait, shots locations are in pixels coordinates. Let's do a hacky trick and let's suppose we are using coordinates in meters"
   ]
  },
  {
   "cell_type": "code",
   "execution_count": 15,
   "metadata": {},
   "outputs": [
    {
     "data": {
      "text/plain": [
       "{'user': 'aromeu',\n",
       " 'status': 'done',\n",
       " 'query': \"UPDATE stephen_curry SET the_geom = st_transform(st_setsrid(st_geometryfromtext('POINT(' || ST_X(the_geom) || ' ' || ST_Y(the_geom) || ')'), 3857), 4326)\",\n",
       " 'created_at': '2020-04-29T21:09:26.260Z',\n",
       " 'updated_at': '2020-04-29T21:09:31.494Z',\n",
       " 'job_id': 'f9697a59-6486-4a7e-a2f0-36bade0ca7b1'}"
      ]
     },
     "execution_count": 15,
     "metadata": {},
     "output_type": "execute_result"
    }
   ],
   "source": [
    "sql_client = SQLClient()\n",
    "sql_client.execute(\"UPDATE {} SET the_geom = st_transform(st_setsrid(st_geometryfromtext('POINT(' || ST_X(the_geom) || ' ' || ST_Y(the_geom) || ')'), 3857), 4326)\".format(dataset_name))"
   ]
  },
  {
   "cell_type": "markdown",
   "metadata": {},
   "source": [
    "#### Let's now compose a 7 layers map. If you wonder how I get to imagine this, I used BUILDER + some PostGIS wizardry + a lot (I mean a lot) of trial/error for the styling "
   ]
  },
  {
   "cell_type": "code",
   "execution_count": 16,
   "metadata": {},
   "outputs": [],
   "source": [
    "def create_named_map(auth_client, dataset_name, map_name, factor):\n",
    "    template = {\n",
    "      \"version\": \"0.0.1\",\n",
    "      \"name\": map_name,\n",
    "      \"auth\": {\n",
    "        \"method\": \"open\"\n",
    "      },\n",
    "      \"placeholders\": {},\n",
    "      \"view\": {},\n",
    "      \"layergroup\": {\n",
    "        \"version\": \"1.0.1\",\n",
    "        \"layers\": [\n",
    "          {\n",
    "            \"type\": \"plain\",\n",
    "            \"options\": {\n",
    "              \"color\": \"#2d2d2d\"\n",
    "            }\n",
    "          },\n",
    "          {\n",
    "            \"type\": \"cartodb\",\n",
    "            \"options\": {\n",
    "              \"cartocss_version\": \"2.1.1\",\n",
    "              \"cartocss\": '''#layer {\n",
    "                              polygon-fill: #2a2a2a;\n",
    "                              polygon-opacity: 0.9;\n",
    "                            }\n",
    "                            #layer::outline {\n",
    "                              line-width: 2 * %d;\n",
    "                              line-color: #4edce6;\n",
    "                              line-opacity: 1;\n",
    "                            }''' % (factor),\n",
    "              \"sql\": '''SELECT 1 AS cartodb_id,\n",
    "                               the_geom,\n",
    "                               the_geom_webmercator\n",
    "                        FROM aromeu.basketball_court\n",
    "                        UNION\n",
    "                        SELECT 1 AS cartodb_id,\n",
    "                               the_geom,\n",
    "                               the_geom_webmercator\n",
    "                        FROM aromeu.basketball_court_markers'''\n",
    "            }\n",
    "          },\n",
    "          {\n",
    "            \"type\": \"cartodb\",\n",
    "            \"options\": {\n",
    "              \"cartocss_version\": \"2.1.1\",\n",
    "              \"cartocss\": '''#layer {\n",
    "                              line-width: 30 * %d;\n",
    "                              line-comp-op: screen;\n",
    "                              line-opacity: 0.08;\n",
    "                              [shot_distance >= 31] {\n",
    "                                line-color: #fff500;\n",
    "                                line-width: 0.3 * %d;\n",
    "                              }\n",
    "                              [shot_distance >= 22][shot_distance < 24] {\n",
    "                                line-color: #0d3781;\n",
    "                                line-opacity: 0.1;\n",
    "                              }\n",
    "\n",
    "                              [shot_distance >= 24][shot_distance < 26] {\n",
    "                                line-color: #681a87;\n",
    "                                line-opacity: 0.1;\n",
    "                              }\n",
    "\n",
    "                              [shot_distance >= 26][shot_distance < 28] {\n",
    "                                line-color: #8a1377;\n",
    "                              }\n",
    "\n",
    "                              [shot_distance >= 28][shot_distance < 31] {\n",
    "                                line-color: #ee29ac;\n",
    "                              }\n",
    "\n",
    "                              image-filters: agg-stack-blur(45 * %d, 45 * %d);\n",
    "                            }''' % (factor, factor, factor, factor),\n",
    "              \"sql\": '''WITH a AS (\n",
    "                          SELECT\n",
    "                            *,\n",
    "                            st_transform(the_geom, 3857) as the_geom_webmercator,\n",
    "                            ST_Length(the_geom::geography) / 1000 AS length\n",
    "                          FROM (\n",
    "                            SELECT\n",
    "                              ST_MakeLine(\n",
    "                                the_geom,\n",
    "                                ST_SetSRID(\n",
    "                                  ST_MakePoint(\n",
    "                                    -1.53456990177195e-22,\n",
    "                                    -3.17697838071347e-15\n",
    "                                  ),\n",
    "                                  4326\n",
    "                                )\n",
    "                              ) AS the_geom,\n",
    "                              cartodb_id, grid_type, game_id, game_event_id, player_id, player_name, team_id, team_name, period, minutes_remaining, seconds_remaining, event_type, action_type, shot_type, shot_zone_basic, shot_zone_area, shot_zone_range, shot_distance, loc_x, loc_y, shot_attempted_flag, shot_made_flag, game_date, htm, vtm\n",
    "                            FROM (SELECT * FROM {dataset} WHERE shot_distance >= 22 and shot_distance < 30 and shot_made_flag != 0) _line_analysis\n",
    "                          ) _cdb_analysis_line_to_single_point\n",
    "                          ) SELECT * FROM a'''.format(dataset=dataset_name)\n",
    "            }\n",
    "          },\n",
    "          {\n",
    "            \"type\": \"cartodb\",\n",
    "            \"options\": {\n",
    "              \"cartocss_version\": \"2.1.1\",\n",
    "              \"cartocss\": '''#layer {\n",
    "                                line-width: 1 * %d;\n",
    "                                line-comp-op: screen;\n",
    "                                line-opacity: 0.7;\n",
    "                                [shot_distance >= 31] {\n",
    "                                  line-color: #fff500;\n",
    "                                }\n",
    "                                [shot_distance >= 22][shot_distance < 24] {\n",
    "                                  line-color: #0d3781;\n",
    "                                }\n",
    "                                [shot_distance >= 24][shot_distance < 26] {\n",
    "                                  line-color: #681a87;\n",
    "                                }\n",
    "\n",
    "                                [shot_distance >= 26][shot_distance < 28] {\n",
    "                                  line-color: #8a1377;\n",
    "                                }\n",
    "\n",
    "                                [shot_distance >= 28][shot_distance < 31] {\n",
    "                                  line-color: #ee29ac;\n",
    "                                }\n",
    "                              }''' % (factor),\n",
    "              \"sql\": '''WITH a AS (\n",
    "                          SELECT\n",
    "                            *,\n",
    "                            st_transform(the_geom, 3857) as the_geom_webmercator,\n",
    "                            ST_Length(the_geom::geography) / 1000 AS length\n",
    "                          FROM (\n",
    "                            SELECT\n",
    "                              ST_MakeLine(\n",
    "                                the_geom,\n",
    "                                ST_SetSRID(\n",
    "                                  ST_MakePoint(\n",
    "                                    -1.53456990177195e-22,\n",
    "                                    -3.17697838071347e-15\n",
    "                                  ),\n",
    "                                  4326\n",
    "                                )\n",
    "                              ) AS the_geom,\n",
    "                              cartodb_id, grid_type, game_id, game_event_id, player_id, player_name, team_id, team_name, period, minutes_remaining, seconds_remaining, event_type, action_type, shot_type, shot_zone_basic, shot_zone_area, shot_zone_range, shot_distance, loc_x, loc_y, shot_attempted_flag, shot_made_flag, game_date, htm, vtm\n",
    "                            FROM (SELECT * FROM {dataset} WHERE shot_distance >= 22 and shot_distance < 30 and shot_made_flag != 0) _line_analysis\n",
    "                          ) _cdb_analysis_line_to_single_point\n",
    "                          ) SELECT * FROM a'''.format(dataset=dataset_name)\n",
    "            }\n",
    "          },\n",
    "          {\n",
    "            \"type\": \"cartodb\",\n",
    "            \"options\": {\n",
    "              \"cartocss_version\": \"2.1.1\",\n",
    "              \"cartocss\": '''#layer {\n",
    "                                line-width: 6 * %d;\n",
    "                                line-comp-op: screen;\n",
    "                                line-opacity: 0.2;\n",
    "                                  line-color: #fff500;\n",
    "                                  image-filters: agg-stack-blur(18 * %d, 18 * %d);\n",
    "\n",
    "                              }''' % (factor, factor, factor),\n",
    "              \"sql\": '''WITH a AS (\n",
    "                        SELECT\n",
    "                          *,\n",
    "                          st_transform(the_geom, 3857) as the_geom_webmercator,\n",
    "                          ST_Length(the_geom::geography) / 1000 AS length\n",
    "                        FROM (\n",
    "                          SELECT\n",
    "                            ST_MakeLine(\n",
    "                              the_geom,\n",
    "                              ST_SetSRID(\n",
    "                                ST_MakePoint(\n",
    "                                  -1.53456990177195e-22,\n",
    "                                  -3.17697838071347e-15\n",
    "                                ),\n",
    "                                4326\n",
    "                              )\n",
    "                            ) AS the_geom,\n",
    "                            cartodb_id, grid_type, game_id, game_event_id, player_id, player_name, team_id, team_name, period, minutes_remaining, seconds_remaining, event_type, action_type, shot_type, shot_zone_basic, shot_zone_area, shot_zone_range, shot_distance, loc_x, loc_y, shot_attempted_flag, shot_made_flag, game_date, htm, vtm\n",
    "                          FROM (SELECT * FROM {dataset} WHERE shot_distance >= 30 and shot_made_flag != 0) _line_analysis\n",
    "                        ) _cdb_analysis_line_to_single_point\n",
    "                        ), points AS\n",
    "                          ( SELECT cartodb_id , loc_x, loc_y, shot_distance,\n",
    "                                   ST_StartPoint(ST_LineMerge(the_geom_webmercator)) AS p1 ,\n",
    "                                   ST_EndPoint(ST_LineMerge(the_geom_webmercator)) AS p2\n",
    "                           FROM a AS q2),\n",
    "                             mid AS\n",
    "                          (SELECT *,\n",
    "                                  ST_SetSRID(ST_MakePoint((ST_X(p2) - ST_X(p1))/2 + ST_X(p1), (ST_Y(p2) - ST_Y(p1))/3 + ST_Y(p1)), 3857) AS midpoint,\n",
    "                                  PI()/2 - ST_Azimuth(p1, p2) AS angle,\n",
    "                                  ST_Distance(p1, p2)/6 AS radius\n",
    "                           FROM points),\n",
    "                             third AS\n",
    "                          (SELECT *,\n",
    "                                  ST_Translate(midpoint, sign(loc_x) *0.005 *sin(angle)*radius, 0 *cos(angle)*radius) AS p3\n",
    "                           FROM mid)\n",
    "                        SELECT *,\n",
    "                               ST_SetSRID(ST_CurveToLine('CIRCULARSTRING( ' || ST_X(p1) || ' ' || ST_Y(p1) || ',' || ST_X(p3) || ' ' || ST_Y(p3) || ',' || ST_X(p2) || ' ' || ST_Y(p2) || ')'), 3857) AS the_geom_webmercator\n",
    "                        FROM third'''.format(dataset=dataset_name)\n",
    "            }\n",
    "          },\n",
    "          {\n",
    "            \"type\": \"cartodb\",\n",
    "            \"options\": {\n",
    "              \"cartocss_version\": \"2.1.1\",\n",
    "              \"cartocss\": '''#layer {\n",
    "                              line-width: 1.5 * %d;\n",
    "                              line-comp-op: lighten;\n",
    "                              line-opacity: 0.7;\n",
    "                                  line-color: #fff500;\n",
    "\n",
    "                            }''' % (factor),\n",
    "              \"sql\": '''WITH a AS (\n",
    "                          SELECT\n",
    "                            *,\n",
    "                            st_transform(the_geom, 3857) as the_geom_webmercator,\n",
    "                            ST_Length(the_geom::geography) / 1000 AS length\n",
    "                          FROM (\n",
    "                            SELECT\n",
    "                              ST_MakeLine(\n",
    "                                the_geom,\n",
    "                                ST_SetSRID(\n",
    "                                  ST_MakePoint(\n",
    "                                    -1.53456990177195e-22,\n",
    "                                    -3.17697838071347e-15\n",
    "                                  ),\n",
    "                                  4326\n",
    "                                )\n",
    "                              ) AS the_geom,\n",
    "                              cartodb_id, grid_type, game_id, game_event_id, player_id, player_name, team_id, team_name, period, minutes_remaining, seconds_remaining, event_type, action_type, shot_type, shot_zone_basic, shot_zone_area, shot_zone_range, shot_distance, loc_x, loc_y, shot_attempted_flag, shot_made_flag, game_date, htm, vtm\n",
    "                            FROM (SELECT * FROM {dataset} WHERE shot_distance >= 30 and shot_made_flag != 0) _line_analysis\n",
    "                          ) _cdb_analysis_line_to_single_point\n",
    "                          ), points AS\n",
    "                            ( SELECT cartodb_id , loc_x, loc_y, shot_distance,\n",
    "                                     ST_StartPoint(ST_LineMerge(the_geom_webmercator)) AS p1 ,\n",
    "                                     ST_EndPoint(ST_LineMerge(the_geom_webmercator)) AS p2\n",
    "                             FROM a AS q2),\n",
    "                               mid AS\n",
    "                            (SELECT *,\n",
    "                                    ST_SetSRID(ST_MakePoint((ST_X(p2) - ST_X(p1))/2 + ST_X(p1), (ST_Y(p2) - ST_Y(p1))/3 + ST_Y(p1)), 3857) AS midpoint,\n",
    "                                    PI()/2 - ST_Azimuth(p1, p2) AS angle,\n",
    "                                    ST_Distance(p1, p2)/6 AS radius\n",
    "                             FROM points),\n",
    "                               third AS\n",
    "                            (SELECT *,\n",
    "                                    ST_Translate(midpoint, sign(loc_x) *0.005 *sin(angle)*radius, 0 *cos(angle)*radius) AS p3\n",
    "                             FROM mid)\n",
    "                          SELECT *,\n",
    "                                 ST_SetSRID(ST_CurveToLine('CIRCULARSTRING( ' || ST_X(p1) || ' ' || ST_Y(p1) || ',' || ST_X(p3) || ' ' || ST_Y(p3) || ',' || ST_X(p2) || ' ' || ST_Y(p2) || ')'), 3857) AS the_geom_webmercator\n",
    "                          FROM third'''.format(dataset=dataset_name)\n",
    "            }\n",
    "          },\n",
    "          {\n",
    "            \"type\": \"cartodb\",\n",
    "            \"options\": {\n",
    "              \"cartocss_version\": \"2.1.1\",\n",
    "              \"cartocss\": '''#layer['mapnik::geometry_type'=1] {\n",
    "                                marker-fill: #fff;\n",
    "                                marker-width: 12 * %d;\n",
    "                                marker-line-color: #fff;\n",
    "                                marker-line-width: 0;\n",
    "                                marker-line-opacity: 1;\n",
    "                                marker-opacity: 0.6;\n",
    "                                marker-type: ellipse;\n",
    "                                marker-placement: point;\n",
    "                                marker-allow-overlap: true;\n",
    "                                marker-comp-op: lighten;\n",
    "                                marker-clip: false;\n",
    "                                marker-multi-policy: largest;\n",
    "                                image-filters: agg-stack-blur(18 * %d, 18 * %d);\n",
    "                              }''' % (factor, factor, factor),\n",
    "              \"sql\": '''with a as (select action_type,game_event_id,game_id,minutes_remaining,period,seconds_remaining,shot_distance,shot_made_flag,shot_type,shot_zone_area,shot_zone_basic,shot_zone_range,team_id,team_name,game_date, the_geom_webmercator, the_geom from {dataset})\n",
    "SELECT 1 as cartodb_id, * FROM a WHERE (shot_distance >= 22 and (shot_zone_area like '%(R)' or shot_zone_area like '%(L)') and shot_zone_basic != 'Mid-Range') or (shot_distance >= 24 and shot_zone_basic != 'Mid-Range') and shot_type = '3PT Field Goal' and shot_made_flag != 0'''.format(dataset=dataset_name)\n",
    "            }\n",
    "          },\n",
    "          {\n",
    "            \"type\": \"cartodb\",\n",
    "            \"options\": {\n",
    "              \"cartocss_version\": \"2.1.1\",\n",
    "              \"cartocss\": '''#layer['mapnik::geometry_type'=1] {\n",
    "                                marker-fill: #fff;\n",
    "                                marker-width: 9 * %d;\n",
    "                                marker-line-color: #fff;\n",
    "                                marker-line-width: 3 * %d;\n",
    "                                marker-line-opacity: 1;\n",
    "                                marker-opacity: 0.3;\n",
    "                                marker-type: ellipse;\n",
    "                                marker-placement: point;\n",
    "                                marker-allow-overlap: true;\n",
    "                                marker-comp-op: lighten;\n",
    "                                marker-clip: false;\n",
    "                                marker-multi-policy: largest;\n",
    "                              }''' % (factor, factor),\n",
    "              \"sql\": '''with a as (select action_type,game_event_id,game_id,minutes_remaining,period,seconds_remaining,shot_distance,shot_made_flag,shot_type,shot_zone_area,shot_zone_basic,shot_zone_range,team_id,team_name,game_date, the_geom_webmercator, the_geom from {dataset})\n",
    "SELECT 1 as cartodb_id, * FROM a WHERE (shot_distance >= 22 and (shot_zone_area like '%(R)' or shot_zone_area like '%(L)') and shot_zone_basic != 'Mid-Range') or (shot_distance >= 24 and shot_zone_basic != 'Mid-Range') and shot_type = '3PT Field Goal' and shot_made_flag != 0'''.format(dataset=dataset_name)\n",
    "            }\n",
    "          }\n",
    "        ]\n",
    "      }\n",
    "    }\n",
    "\n",
    "    named_map_manager = NamedMapManager(auth_client)\n",
    "\n",
    "    try:\n",
    "      named_map = named_map_manager.get(map_name)\n",
    "      if named_map is not None:\n",
    "          named_map.client = auth_client\n",
    "          named_map.delete()\n",
    "    except Exception as e:\n",
    "      #ignore\n",
    "      print(e)\n",
    "\n",
    "    return named_map_manager.create(template=template)"
   ]
  },
  {
   "cell_type": "markdown",
   "metadata": {},
   "source": [
    "#### This is how we authenticate the CARTO Python SDK"
   ]
  },
  {
   "cell_type": "code",
   "execution_count": 17,
   "metadata": {},
   "outputs": [],
   "source": [
    "auth_client = APIKeyAuthClient(CARTO_BASE_URL, CARTO_API_KEY)"
   ]
  },
  {
   "cell_type": "markdown",
   "metadata": {},
   "source": [
    "#### This is one of the things I love the most from CARTO: prototype with BUILDER + then template your map and finally use APIs to produce maps programmatically\n",
    "\n",
    "For this specific case, we have parameterized the line and markers widths, so with a single template, we can produce maps that we can use to share a screenshot (with 72DPI) or to export for high resolution printing (with 300DPI).\n",
    "\n",
    "Let's go for the poster printing"
   ]
  },
  {
   "cell_type": "code",
   "execution_count": 18,
   "metadata": {},
   "outputs": [
    {
     "name": "stdout",
     "output_type": "stream",
     "text": [
      "[\"Cannot find template 'tpl_stephen_curry1588194572838' of user 'aromeu'\"]\n"
     ]
    },
    {
     "data": {
      "text/plain": [
       "<carto.maps.NamedMap at 0x1138fcb10>"
      ]
     },
     "execution_count": 18,
     "metadata": {},
     "output_type": "execute_result"
    }
   ],
   "source": [
    "DPI = 72\n",
    "FACTOR = DPI / 72.0\n",
    "map_name = 'tpl_' + dataset_name + str(int(round(time.time() * 1000)))\n",
    "create_named_map(auth_client, dataset_name, map_name, FACTOR)"
   ]
  },
  {
   "cell_type": "markdown",
   "metadata": {},
   "source": [
    "#### Aaaand we're mostly done. Let's export a huge-high-resolution image"
   ]
  },
  {
   "cell_type": "code",
   "execution_count": 19,
   "metadata": {},
   "outputs": [],
   "source": [
    "map = {\n",
    "  'username': CARTO_USER_NAME,\n",
    "  'map_id': map_name,\n",
    "  'width': 120,\n",
    "  'height': 80,\n",
    "  'dpi': DPI,\n",
    "  'zoom': 18,\n",
    "  'bounds': {\"ne\":[-0.000977916642979147,-0.004578593652695418],\"sw\":[0.004981951781790824,0.004288789350539447]},\n",
    "  'api_key': CARTO_API_KEY\n",
    "}\n",
    "\n",
    "p = Printer(map['username'], map['map_id'], map['api_key'], map['width'], map['height'], map['zoom'], map['bounds'], map['dpi'], 'RGBA')\n",
    "image_path = p.export('.')"
   ]
  },
  {
   "cell_type": "code",
   "execution_count": 20,
   "metadata": {},
   "outputs": [
    {
     "data": {
      "text/plain": [
       "'./aromeu_tpl_stephen_curry1588194572838_20200429230933.png'"
      ]
     },
     "execution_count": 20,
     "metadata": {},
     "output_type": "execute_result"
    }
   ],
   "source": [
    "image_path"
   ]
  },
  {
   "cell_type": "markdown",
   "metadata": {},
   "source": [
    "#### How it looks like??"
   ]
  },
  {
   "cell_type": "markdown",
   "metadata": {},
   "source": [
    "![](aromeu_tpl_stephen_curry1588194572838_20200429230933.png)"
   ]
  },
  {
   "cell_type": "markdown",
   "metadata": {},
   "source": [
    "#### Clean some stuff and close the door when you leave, please"
   ]
  },
  {
   "cell_type": "code",
   "execution_count": 21,
   "metadata": {},
   "outputs": [],
   "source": [
    "named_map_manager = NamedMapManager(auth_client)\n",
    "\n",
    "try:\n",
    "  named_map = named_map_manager.get(map_name)\n",
    "  if named_map is not None:\n",
    "      named_map.client = auth_client\n",
    "      named_map.delete()\n",
    "except Exception as e:\n",
    "  #ignore\n",
    "  print(e)"
   ]
  },
  {
   "cell_type": "code",
   "execution_count": null,
   "metadata": {},
   "outputs": [],
   "source": [
    " --WHERE (shot_distance >= 22 and (shot_zone_area like '%(R)' or shot_zone_area like '%(L)') and shot_zone_basic != 'Mid-Range') or (shot_distance >= 24 and shot_zone_basic != 'Mid-Range') and shot_type = '3PT Field Goal' and shot_made_flag != 0"
   ]
  }
 ],
 "metadata": {
  "kernelspec": {
   "display_name": "Python 3",
   "language": "python",
   "name": "python3"
  },
  "language_info": {
   "codemirror_mode": {
    "name": "ipython",
    "version": 3
   },
   "file_extension": ".py",
   "mimetype": "text/x-python",
   "name": "python",
   "nbconvert_exporter": "python",
   "pygments_lexer": "ipython3",
   "version": "3.7.7"
  }
 },
 "nbformat": 4,
 "nbformat_minor": 2
}
